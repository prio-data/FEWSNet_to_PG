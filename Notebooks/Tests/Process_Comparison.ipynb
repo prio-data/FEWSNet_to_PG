{
 "cells": [
  {
   "cell_type": "markdown",
   "metadata": {},
   "source": [
    "#### This Notebook compares the results of various processes and proposes a desirable default selection or changes to current (24-Jan-2025) parameters."
   ]
  },
  {
   "cell_type": "code",
   "execution_count": 1,
   "metadata": {},
   "outputs": [
    {
     "name": "stdout",
     "output_type": "stream",
     "text": [
      "Current working directory: /Users/gbenz/Documents/FEWSnet\n"
     ]
    }
   ],
   "source": [
    "import os\n",
    "\n",
    "os.chdir('/Users/gbenz/Documents/FEWSnet')\n",
    "print(\"Current working directory:\", os.getcwd())"
   ]
  },
  {
   "cell_type": "code",
   "execution_count": 2,
   "metadata": {},
   "outputs": [],
   "source": [
    "from Utils.fewsnet_process import run_fewsnet_processing_workflow"
   ]
  },
  {
   "cell_type": "markdown",
   "metadata": {},
   "source": [
    "#### Prompts:\n",
    "- IPC 3.1\n",
    "- 2020-01-01\n",
    "- 2024-12-31\n",
    "- ET\n",
    "- no\n",
    "\n",
    "- 2022-06-01\n"
   ]
  },
  {
   "cell_type": "code",
   "execution_count": 3,
   "metadata": {},
   "outputs": [
    {
     "name": "stdout",
     "output_type": "stream",
     "text": [
      "The PG reference shapefile has already been produced!\n",
      "Type 'q' at any time to quit the process.\n",
      "\n",
      "General date ranges associated with each IPC classification:\n",
      "1. IPC 2.0: ~2004–2012\n",
      "2. IPC 3.0: ~2013–2018\n",
      "3. IPC 3.1: ~2019–Present\n",
      "\n",
      "Please choose an IPC classification from the options above.\n",
      "Selected IPC classification: IPC 3.1 (IPC31)\n",
      "Please supply a start date in the YYYY-MM-DD format (e.g., 2004-01-01):\n",
      "Your selected start date is: 2022-01-01\n",
      "Please supply an end date in the YYYY-MM-DD format (e.g., 2012-12-31):\n",
      "Your selected end date is: 2023-12-31\n",
      "The API call constructed: https://fdw.fews.net/api/ipcphase.csv?start_date=2022-01-01&end_date=2023-12-31&classification_scale=IPC31\n",
      "\n",
      "Data downloaded and saved as ipc_data.csv to folder Data/Generated/ipc_data.csv\n",
      "\n",
      "['source_organization', 'source_document', 'country', 'country_code', 'geographic_group', 'fewsnet_region', 'geographic_unit_full_name', 'geographic_unit_name', 'unit_type', 'fnid', 'classification_scale', 'scenario_name', 'preference_rating', 'is_allowing_for_assistance', 'projection_start', 'projection_end', 'status', 'value', 'pct_phase3', 'pct_phase4', 'pct_phase5', 'description', 'id', 'datacollectionperiod', 'datacollection', 'scenario', 'geographic_unit', 'datasourceorganization', 'datasourcedocument', 'dataseries', 'dataseries_name', 'specialization_type', 'dataseries_specialization_type', 'data_usage_policy', 'created', 'modified', 'status_changed', 'collection_status', 'collection_status_changed', 'collection_schedule', 'reporting_date']\n",
      "Available country codes and names:\n",
      "AF: Afghanistan\n",
      "AO: Angola\n",
      "BF: Burkina Faso\n",
      "BI: Burundi\n",
      "CD: Congo, The Democratic Republic of the\n",
      "CF: Central African Republic\n",
      "CM: Cameroon\n",
      "ET: Ethiopia\n",
      "GT: Guatemala\n",
      "HN: Honduras\n",
      "HT: Haiti\n",
      "KE: Kenya\n",
      "LS: Lesotho\n",
      "MG: Madagascar\n",
      "ML: Mali\n",
      "MR: Mauritania\n",
      "MW: Malawi\n",
      "MZ: Mozambique\n",
      "NE: Niger\n",
      "NG: Nigeria\n",
      "NI: Nicaragua\n",
      "RW: Rwanda\n",
      "SD: Sudan\n",
      "SO: Somalia\n",
      "SS: South Sudan\n",
      "SV: El Salvador\n",
      "TD: Chad\n",
      "UG: Uganda\n",
      "VE: Venezuela, Bolivarian Republic of\n",
      "YE: Yemen\n",
      "ZW: Zimbabwe\n",
      "You selected the following countries:\n",
      "YE: Yemen\n",
      "Generating IPC completeness graphic...\n",
      "19: \"Queryset Fatalities_fao_pgm *transform in progress* - 7 of 17 jobs remaining\"        \r"
     ]
    },
    {
     "name": "stderr",
     "output_type": "stream",
     "text": [
      "100%|██████████| 40.0M/40.0M [00:02<00:00, 13.5MB/s]\n"
     ]
    },
    {
     "name": "stdout",
     "output_type": "stream",
     "text": [
      "Queryset Fatalities_fao_pgm read successfully                                      \n"
     ]
    },
    {
     "ename": "ValueError",
     "evalue": "aspect must be finite and positive ",
     "output_type": "error",
     "traceback": [
      "\u001b[0;31m---------------------------------------------------------------------------\u001b[0m",
      "\u001b[0;31mValueError\u001b[0m                                Traceback (most recent call last)",
      "\u001b[1;32m/Users/gbenz/Documents/FEWSnet/Notebooks/Tests/Process_Comparison.ipynb Cell 5\u001b[0m line \u001b[0;36m1\n\u001b[0;32m----> <a href='vscode-notebook-cell:/Users/gbenz/Documents/FEWSnet/Notebooks/Tests/Process_Comparison.ipynb#W2sZmlsZQ%3D%3D?line=0'>1</a>\u001b[0m run_fewsnet_processing_workflow(\u001b[39m'\u001b[39;49m\u001b[39m/Users/gbenz/Documents/FEWSnet/Data/Processed/csv/TESTS_\u001b[39;49m\u001b[39m'\u001b[39;49m)\n",
      "File \u001b[0;32m~/Documents/FEWSnet/Utils/fewsnet_process.py:78\u001b[0m, in \u001b[0;36mrun_fewsnet_processing_workflow\u001b[0;34m(path)\u001b[0m\n\u001b[1;32m     74\u001b[0m ipc_country, selected_country_codes \u001b[39m=\u001b[39m select_country_codes(ipc)\n\u001b[1;32m     76\u001b[0m endyear \u001b[39m=\u001b[39m e\u001b[39m.\u001b[39msplit(\u001b[39m'\u001b[39m\u001b[39m-\u001b[39m\u001b[39m'\u001b[39m)[\u001b[39m0\u001b[39m]\n\u001b[0;32m---> 78\u001b[0m icp_country_result \u001b[39m=\u001b[39m plot_fewsnet_scenario_coverage(ipc, endyear)\n\u001b[1;32m     80\u001b[0m process_selection \u001b[39m=\u001b[39m get_process_selection()\n\u001b[1;32m     82\u001b[0m all_country_results \u001b[39m=\u001b[39m []\n",
      "File \u001b[0;32m~/Documents/FEWSnet/Utils/temporal_coverage.py:113\u001b[0m, in \u001b[0;36mplot_fewsnet_scenario_coverage\u001b[0;34m(ipc, target_year, plotted_attribute, shapefile_path)\u001b[0m\n\u001b[1;32m    108\u001b[0m \u001b[39m# Step 8: Add 'count' column\u001b[39;00m\n\u001b[1;32m    109\u001b[0m \u001b[39m# Count the number of unique elements in the cleaned 'reporting_dates'\u001b[39;00m\n\u001b[1;32m    110\u001b[0m icp_country_result[\u001b[39m'\u001b[39m\u001b[39mcount\u001b[39m\u001b[39m'\u001b[39m] \u001b[39m=\u001b[39m icp_country_result[\u001b[39m'\u001b[39m\u001b[39mreporting_dates\u001b[39m\u001b[39m'\u001b[39m]\u001b[39m.\u001b[39mapply(\n\u001b[1;32m    111\u001b[0m     \u001b[39mlambda\u001b[39;00m x: \u001b[39mlen\u001b[39m(x) \u001b[39mif\u001b[39;00m \u001b[39misinstance\u001b[39m(x, \u001b[39mlist\u001b[39m) \u001b[39melse\u001b[39;00m \u001b[39m0\u001b[39m\n\u001b[1;32m    112\u001b[0m )\n\u001b[0;32m--> 113\u001b[0m plot_results(icp_country_result, plotted_attribute)  \u001b[39m# Replace 'count' with 'present' as needed\u001b[39;00m\n\u001b[1;32m    115\u001b[0m \u001b[39m# Return the final GeoDataFrame\u001b[39;00m\n\u001b[1;32m    116\u001b[0m \u001b[39mreturn\u001b[39;00m icp_country_result\n",
      "File \u001b[0;32m~/Documents/FEWSnet/Utils/temporal_coverage.py:32\u001b[0m, in \u001b[0;36mplot_results\u001b[0;34m(icp_country_result, plotted_attribute)\u001b[0m\n\u001b[1;32m     29\u001b[0m     ax\u001b[39m.\u001b[39mset_title(\u001b[39m\"\u001b[39m\u001b[39mReporting Dates Availability\u001b[39m\u001b[39m\"\u001b[39m, fontsize\u001b[39m=\u001b[39m\u001b[39m14\u001b[39m)\n\u001b[1;32m     30\u001b[0m \u001b[39melif\u001b[39;00m plotted_attribute \u001b[39m==\u001b[39m \u001b[39m'\u001b[39m\u001b[39mcount\u001b[39m\u001b[39m'\u001b[39m:\n\u001b[1;32m     31\u001b[0m     \u001b[39m# Plot 'count' as a continuous scale\u001b[39;00m\n\u001b[0;32m---> 32\u001b[0m     icp_country_result\u001b[39m.\u001b[39;49mplot(\n\u001b[1;32m     33\u001b[0m         ax\u001b[39m=\u001b[39;49max,\n\u001b[1;32m     34\u001b[0m         column\u001b[39m=\u001b[39;49m\u001b[39m\"\u001b[39;49m\u001b[39mcount\u001b[39;49m\u001b[39m\"\u001b[39;49m,\n\u001b[1;32m     35\u001b[0m         cmap\u001b[39m=\u001b[39;49m\u001b[39m\"\u001b[39;49m\u001b[39mviridis\u001b[39;49m\u001b[39m\"\u001b[39;49m,  \u001b[39m# Choose a colormap\u001b[39;49;00m\n\u001b[1;32m     36\u001b[0m         legend\u001b[39m=\u001b[39;49m\u001b[39mTrue\u001b[39;49;00m,     \u001b[39m# Add a legend for the scale\u001b[39;49;00m\n\u001b[1;32m     37\u001b[0m         edgecolor\u001b[39m=\u001b[39;49m\u001b[39mNone\u001b[39;49;00m\n\u001b[1;32m     38\u001b[0m     )\n\u001b[1;32m     39\u001b[0m     ax\u001b[39m.\u001b[39mset_title(\u001b[39m\"\u001b[39m\u001b[39mNumber of Reporting Dates per Country\u001b[39m\u001b[39m\"\u001b[39m, fontsize\u001b[39m=\u001b[39m\u001b[39m14\u001b[39m)\n\u001b[1;32m     40\u001b[0m \u001b[39melse\u001b[39;00m:\n",
      "File \u001b[0;32m~/miniforge3/envs/viewser/lib/python3.11/site-packages/geopandas/plotting.py:979\u001b[0m, in \u001b[0;36mGeoplotAccessor.__call__\u001b[0;34m(self, *args, **kwargs)\u001b[0m\n\u001b[1;32m    977\u001b[0m kind \u001b[39m=\u001b[39m kwargs\u001b[39m.\u001b[39mpop(\u001b[39m\"\u001b[39m\u001b[39mkind\u001b[39m\u001b[39m\"\u001b[39m, \u001b[39m\"\u001b[39m\u001b[39mgeo\u001b[39m\u001b[39m\"\u001b[39m)\n\u001b[1;32m    978\u001b[0m \u001b[39mif\u001b[39;00m kind \u001b[39m==\u001b[39m \u001b[39m\"\u001b[39m\u001b[39mgeo\u001b[39m\u001b[39m\"\u001b[39m:\n\u001b[0;32m--> 979\u001b[0m     \u001b[39mreturn\u001b[39;00m plot_dataframe(data, \u001b[39m*\u001b[39;49margs, \u001b[39m*\u001b[39;49m\u001b[39m*\u001b[39;49mkwargs)\n\u001b[1;32m    980\u001b[0m \u001b[39mif\u001b[39;00m kind \u001b[39min\u001b[39;00m \u001b[39mself\u001b[39m\u001b[39m.\u001b[39m_pandas_kinds:\n\u001b[1;32m    981\u001b[0m     \u001b[39m# Access pandas plots\u001b[39;00m\n\u001b[1;32m    982\u001b[0m     \u001b[39mreturn\u001b[39;00m PlotAccessor(data)(kind\u001b[39m=\u001b[39mkind, \u001b[39m*\u001b[39m\u001b[39m*\u001b[39mkwargs)\n",
      "File \u001b[0;32m~/miniforge3/envs/viewser/lib/python3.11/site-packages/geopandas/plotting.py:690\u001b[0m, in \u001b[0;36mplot_dataframe\u001b[0;34m(df, column, cmap, color, ax, cax, categorical, legend, scheme, k, vmin, vmax, markersize, figsize, legend_kwds, categories, classification_kwds, missing_kwds, aspect, **style_kwds)\u001b[0m\n\u001b[1;32m    688\u001b[0m     bounds \u001b[39m=\u001b[39m df\u001b[39m.\u001b[39mtotal_bounds\n\u001b[1;32m    689\u001b[0m     y_coord \u001b[39m=\u001b[39m np\u001b[39m.\u001b[39mmean([bounds[\u001b[39m1\u001b[39m], bounds[\u001b[39m3\u001b[39m]])\n\u001b[0;32m--> 690\u001b[0m     ax\u001b[39m.\u001b[39;49mset_aspect(\u001b[39m1\u001b[39;49m \u001b[39m/\u001b[39;49m np\u001b[39m.\u001b[39;49mcos(y_coord \u001b[39m*\u001b[39;49m np\u001b[39m.\u001b[39;49mpi \u001b[39m/\u001b[39;49m \u001b[39m180\u001b[39;49m))\n\u001b[1;32m    691\u001b[0m     \u001b[39m# formula ported from R package sp\u001b[39;00m\n\u001b[1;32m    692\u001b[0m     \u001b[39m# https://github.com/edzer/sp/blob/master/R/mapasp.R\u001b[39;00m\n\u001b[1;32m    693\u001b[0m \u001b[39melse\u001b[39;00m:\n\u001b[1;32m    694\u001b[0m     ax\u001b[39m.\u001b[39mset_aspect(\u001b[39m\"\u001b[39m\u001b[39mequal\u001b[39m\u001b[39m\"\u001b[39m)\n",
      "File \u001b[0;32m~/miniforge3/envs/viewser/lib/python3.11/site-packages/matplotlib/axes/_base.py:1664\u001b[0m, in \u001b[0;36m_AxesBase.set_aspect\u001b[0;34m(self, aspect, adjustable, anchor, share)\u001b[0m\n\u001b[1;32m   1662\u001b[0m     aspect \u001b[39m=\u001b[39m \u001b[39mfloat\u001b[39m(aspect)  \u001b[39m# raise ValueError if necessary\u001b[39;00m\n\u001b[1;32m   1663\u001b[0m     \u001b[39mif\u001b[39;00m aspect \u001b[39m<\u001b[39m\u001b[39m=\u001b[39m \u001b[39m0\u001b[39m \u001b[39mor\u001b[39;00m \u001b[39mnot\u001b[39;00m np\u001b[39m.\u001b[39misfinite(aspect):\n\u001b[0;32m-> 1664\u001b[0m         \u001b[39mraise\u001b[39;00m \u001b[39mValueError\u001b[39;00m(\u001b[39m\"\u001b[39m\u001b[39maspect must be finite and positive \u001b[39m\u001b[39m\"\u001b[39m)\n\u001b[1;32m   1666\u001b[0m \u001b[39mif\u001b[39;00m share:\n\u001b[1;32m   1667\u001b[0m     axes \u001b[39m=\u001b[39m {sibling \u001b[39mfor\u001b[39;00m name \u001b[39min\u001b[39;00m \u001b[39mself\u001b[39m\u001b[39m.\u001b[39m_axis_names\n\u001b[1;32m   1668\u001b[0m             \u001b[39mfor\u001b[39;00m sibling \u001b[39min\u001b[39;00m \u001b[39mself\u001b[39m\u001b[39m.\u001b[39m_shared_axes[name]\u001b[39m.\u001b[39mget_siblings(\u001b[39mself\u001b[39m)}\n",
      "\u001b[0;31mValueError\u001b[0m: aspect must be finite and positive "
     ]
    },
    {
     "data": {
      "image/png": "[encoded data removed]",
      "text/plain": [
       "<Figure size 800x800 with 1 Axes>"
      ]
     },
     "metadata": {},
     "output_type": "display_data"
    }
   ],
   "source": [
    "run_fewsnet_processing_workflow('/Users/gbenz/Documents/FEWSnet/Data/Processed/csv/TESTS_')"
   ]
  }
 ],
 "metadata": {
  "kernelspec": {
   "display_name": "viewser",
   "language": "python",
   "name": "python3"
  },
  "language_info": {
   "codemirror_mode": {
    "name": "ipython",
    "version": 3
   },
   "file_extension": ".py",
   "mimetype": "text/x-python",
   "name": "python",
   "nbconvert_exporter": "python",
   "pygments_lexer": "ipython3",
   "version": "3.11.9"
  }
 },
 "nbformat": 4,
 "nbformat_minor": 2
}
