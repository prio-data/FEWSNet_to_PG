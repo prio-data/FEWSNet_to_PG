{
 "cells": [
  {
   "cell_type": "code",
   "execution_count": null,
   "metadata": {},
   "outputs": [],
   "source": [
    "from ingester3.extensions import *\n",
    "import pandas as pd\n",
    "from ingester3.DBWriter import DBWriter"
   ]
  },
  {
   "cell_type": "code",
   "execution_count": null,
   "metadata": {},
   "outputs": [],
   "source": [
    "#--------------------------------------------\n",
    "path = 'Data/Processed/csv'\n",
    "file = 'FEWSnet_to_PG_2022_06_01_ET_6.csv.csv' #f'/{path}/<Enter file name here .csv>' \n",
    "#--------------------------------------------\n",
    "\n",
    "fewsnet = pd.read_csv(file)"
   ]
  },
  {
   "cell_type": "markdown",
   "metadata": {},
   "source": [
    "#### FEWSNET Data is offline on 31-Jan when this project was planned to be ingested into the database. \n",
    "\n",
    "Small changes to the datframe (`fewsnet`) may be required before writing to the `viewser` database. No changes to the `DBWriter` or `.transfer` scripts are forseen. \n",
    "\n",
    "- the column names that are to be ingested to the database should include refernece to attributes:\n",
    "    - prefix of 'fn_' designating this column as fewsnet data\n",
    "    - IPC Classification\n",
    "    - Scenario (the default within the main.py function is 'current sitution' but this may also include food insecurity predictions)\n",
    "        - `_cs_`: current situation\n",
    "    - process selection (1-6)\n",
    "    \n",
    "** A complete field name with these considerations may look like:**\n",
    "\n",
    "`fn_ipc31_cs_6`"
   ]
  },
  {
   "cell_type": "code",
   "execution_count": null,
   "metadata": {},
   "outputs": [],
   "source": [
    "pgm_writer = DBWriter(fewsnet, \n",
    "        level='pgm',\n",
    "        in_panel_wipe = True,\n",
    "        out_panel_wipe = False,\n",
    "        in_panel_zero = True,\n",
    "        out_panel_zero = False)\n",
    "    \n",
    "pgm_writer.set_time_extents_min_max(fewsnet.month_id.min(), fewsnet.month_id.max())\n"
   ]
  },
  {
   "cell_type": "markdown",
   "metadata": {},
   "source": [
    "#### Transfer and Queryset protocals should communicate with `Viewser6`\n",
    "\n",
    "- Confirm that `tname=`  is still the standard ingestion process"
   ]
  },
  {
   "cell_type": "code",
   "execution_count": null,
   "metadata": {},
   "outputs": [],
   "source": [
    "pgm_writer.transfer(tname='climate_extremes')"
   ]
  },
  {
   "cell_type": "markdown",
   "metadata": {},
   "source": [
    "#### Generate a Queryset for future use:\n",
    "\n",
    "my_queryset = (Queryset(“sensible_name”, \"country_month\") \n",
    "               .with_column(Column(“ged_sb\", \n",
    "                  from_loa=“priogrid_month”, \n",
    "                  from_column=“ged_sb_best_sum_nokgi”) \n",
    "                            ) \n",
    "               )"
   ]
  },
  {
   "cell_type": "code",
   "execution_count": null,
   "metadata": {},
   "outputs": [],
   "source": [
    "my_queryset = (Queryset('fewsnet', 'pgm') \n",
    "               .with_column(Column('fn_ipc31_cs_6', \n",
    "                  from_loa= 'priogrid_month', \n",
    "                  from_column='fn_ipc31_cs_6') \n",
    "                            ) \n",
    "               )"
   ]
  }
 ],
 "metadata": {
  "language_info": {
   "name": "python"
  }
 },
 "nbformat": 4,
 "nbformat_minor": 2
}
